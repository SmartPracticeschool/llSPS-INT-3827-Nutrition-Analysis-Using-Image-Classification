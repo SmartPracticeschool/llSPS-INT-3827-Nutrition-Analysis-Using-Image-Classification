{
 "cells": [
  {
   "cell_type": "code",
   "execution_count": 1,
   "metadata": {},
   "outputs": [],
   "source": [
    "from tensorflow.keras.models import Sequential       # for initializing\n",
    "from tensorflow.keras.layers import Dense            #adding layers\n",
    "from tensorflow.keras.layers import Conv2D          # convolution layer\n",
    "from tensorflow.keras.layers import MaxPool2D       # max_pooling\n",
    "from tensorflow.keras.layers import Flatten"
   ]
  },
  {
   "cell_type": "code",
   "execution_count": 2,
   "metadata": {},
   "outputs": [],
   "source": [
    "model=Sequential()"
   ]
  },
  {
   "cell_type": "code",
   "execution_count": 3,
   "metadata": {},
   "outputs": [],
   "source": [
    "model.add(Conv2D(32,3,3,input_shape=(64,64,3),activation='relu'))  "
   ]
  },
  {
   "cell_type": "code",
   "execution_count": 4,
   "metadata": {},
   "outputs": [],
   "source": [
    "model.add(MaxPool2D(pool_size=(2,2)))        # 2,2 = represent size of your matrics"
   ]
  },
  {
   "cell_type": "code",
   "execution_count": 5,
   "metadata": {},
   "outputs": [],
   "source": [
    "model.add(Flatten())"
   ]
  },
  {
   "cell_type": "code",
   "execution_count": 6,
   "metadata": {},
   "outputs": [
    {
     "name": "stdout",
     "output_type": "stream",
     "text": [
      "Model: \"sequential\"\n",
      "_________________________________________________________________\n",
      "Layer (type)                 Output Shape              Param #   \n",
      "=================================================================\n",
      "conv2d (Conv2D)              (None, 21, 21, 32)        896       \n",
      "_________________________________________________________________\n",
      "max_pooling2d (MaxPooling2D) (None, 10, 10, 32)        0         \n",
      "_________________________________________________________________\n",
      "flatten (Flatten)            (None, 3200)              0         \n",
      "=================================================================\n",
      "Total params: 896\n",
      "Trainable params: 896\n",
      "Non-trainable params: 0\n",
      "_________________________________________________________________\n"
     ]
    }
   ],
   "source": [
    "model.summary()"
   ]
  },
  {
   "cell_type": "code",
   "execution_count": 7,
   "metadata": {},
   "outputs": [],
   "source": [
    "model.add(Dense(units=128,activation='relu',kernel_initializer='random_uniform',))"
   ]
  },
  {
   "cell_type": "code",
   "execution_count": 8,
   "metadata": {},
   "outputs": [],
   "source": [
    "model.add(Dense(units=256,activation='relu',kernel_initializer='random_uniform',))"
   ]
  },
  {
   "cell_type": "code",
   "execution_count": 9,
   "metadata": {},
   "outputs": [],
   "source": [
    "model.add(Dense(units=300,activation='relu',kernel_initializer='random_uniform',))"
   ]
  },
  {
   "cell_type": "code",
   "execution_count": 10,
   "metadata": {},
   "outputs": [],
   "source": [
    "model.add(Dense(units=6,kernel_initializer='random_uniform',activation='softmax'))"
   ]
  },
  {
   "cell_type": "code",
   "execution_count": 11,
   "metadata": {},
   "outputs": [
    {
     "name": "stdout",
     "output_type": "stream",
     "text": [
      "Model: \"sequential\"\n",
      "_________________________________________________________________\n",
      "Layer (type)                 Output Shape              Param #   \n",
      "=================================================================\n",
      "conv2d (Conv2D)              (None, 21, 21, 32)        896       \n",
      "_________________________________________________________________\n",
      "max_pooling2d (MaxPooling2D) (None, 10, 10, 32)        0         \n",
      "_________________________________________________________________\n",
      "flatten (Flatten)            (None, 3200)              0         \n",
      "_________________________________________________________________\n",
      "dense (Dense)                (None, 128)               409728    \n",
      "_________________________________________________________________\n",
      "dense_1 (Dense)              (None, 256)               33024     \n",
      "_________________________________________________________________\n",
      "dense_2 (Dense)              (None, 300)               77100     \n",
      "_________________________________________________________________\n",
      "dense_3 (Dense)              (None, 6)                 1806      \n",
      "=================================================================\n",
      "Total params: 522,554\n",
      "Trainable params: 522,554\n",
      "Non-trainable params: 0\n",
      "_________________________________________________________________\n"
     ]
    }
   ],
   "source": [
    "model.summary()"
   ]
  },
  {
   "cell_type": "code",
   "execution_count": 12,
   "metadata": {},
   "outputs": [],
   "source": [
    "model.compile(optimizer='adam',loss='binary_crossentropy',metrics=['accuracy'])"
   ]
  },
  {
   "cell_type": "raw",
   "metadata": {},
   "source": [
    "#loading dataset"
   ]
  },
  {
   "cell_type": "code",
   "execution_count": 13,
   "metadata": {},
   "outputs": [],
   "source": [
    "from keras.preprocessing.image import ImageDataGenerator"
   ]
  },
  {
   "cell_type": "code",
   "execution_count": 14,
   "metadata": {},
   "outputs": [],
   "source": [
    "train_datagene= ImageDataGenerator()"
   ]
  },
  {
   "cell_type": "code",
   "execution_count": 15,
   "metadata": {},
   "outputs": [],
   "source": [
    "train_datagene=ImageDataGenerator(rescale=1./255,shear_range=0.2,horizontal_flip=True,zoom_range=0.2)\n",
    "test_datagene=ImageDataGenerator(rescale=1./255)"
   ]
  },
  {
   "cell_type": "code",
   "execution_count": 16,
   "metadata": {},
   "outputs": [
    {
     "name": "stdout",
     "output_type": "stream",
     "text": [
      "Found 4800 images belonging to 6 classes.\n",
      "Found 1200 images belonging to 6 classes.\n"
     ]
    }
   ],
   "source": [
    "x_train=train_datagene.flow_from_directory(r'F:\\fruitset\\train',target_size=(64,64),batch_size=75,class_mode='categorical')\n",
    "x_test=test_datagene.flow_from_directory(r'F:\\fruitset\\test',target_size=(64,64),batch_size=75,class_mode='categorical')"
   ]
  },
  {
   "cell_type": "code",
   "execution_count": 17,
   "metadata": {},
   "outputs": [
    {
     "name": "stdout",
     "output_type": "stream",
     "text": [
      "{'Apple_Good': 0, 'Banana_Good': 1, 'Guava_Good': 2, 'Lime_Good': 3, 'Orange_Good': 4, 'Pomegranate_Good': 5}\n"
     ]
    }
   ],
   "source": [
    "print(x_train.class_indices)"
   ]
  },
  {
   "cell_type": "code",
   "execution_count": 18,
   "metadata": {},
   "outputs": [
    {
     "name": "stdout",
     "output_type": "stream",
     "text": [
      "Epoch 1/30\n",
      "64/64 [==============================] - ETA: 0s - loss: 0.3590 - accuracy: 0.4342WARNING:tensorflow:Your input ran out of data; interrupting training. Make sure that your dataset or generator can generate at least `steps_per_epoch * epochs` batches (in this case, 24 batches). You may need to use the repeat() function when building your dataset.\n",
      "64/64 [==============================] - 49s 769ms/step - loss: 0.3590 - accuracy: 0.4342 - val_loss: 0.3748 - val_accuracy: 0.5058\n",
      "Epoch 2/30\n",
      "64/64 [==============================] - 9s 147ms/step - loss: 0.2111 - accuracy: 0.7158\n",
      "Epoch 3/30\n",
      "64/64 [==============================] - 9s 147ms/step - loss: 0.1515 - accuracy: 0.8146\n",
      "Epoch 4/30\n",
      "64/64 [==============================] - 10s 158ms/step - loss: 0.1072 - accuracy: 0.8754\n",
      "Epoch 5/30\n",
      "64/64 [==============================] - 9s 147ms/step - loss: 0.0972 - accuracy: 0.8921\n",
      "Epoch 6/30\n",
      "64/64 [==============================] - 12s 180ms/step - loss: 0.0797 - accuracy: 0.9119\n",
      "Epoch 7/30\n",
      "64/64 [==============================] - 12s 190ms/step - loss: 0.0792 - accuracy: 0.9087\n",
      "Epoch 8/30\n",
      "64/64 [==============================] - 11s 166ms/step - loss: 0.0624 - accuracy: 0.9296\n",
      "Epoch 9/30\n",
      "64/64 [==============================] - 12s 186ms/step - loss: 0.0542 - accuracy: 0.9406\n",
      "Epoch 10/30\n",
      "64/64 [==============================] - 11s 171ms/step - loss: 0.0488 - accuracy: 0.9471\n",
      "Epoch 11/30\n",
      "64/64 [==============================] - 12s 190ms/step - loss: 0.0511 - accuracy: 0.9448\n",
      "Epoch 12/30\n",
      "64/64 [==============================] - 13s 206ms/step - loss: 0.0490 - accuracy: 0.9504\n",
      "Epoch 13/30\n",
      "64/64 [==============================] - 10s 157ms/step - loss: 0.0398 - accuracy: 0.9579\n",
      "Epoch 14/30\n",
      "64/64 [==============================] - 10s 152ms/step - loss: 0.0381 - accuracy: 0.9592\n",
      "Epoch 15/30\n",
      "64/64 [==============================] - 11s 176ms/step - loss: 0.0358 - accuracy: 0.9617\n",
      "Epoch 16/30\n",
      "64/64 [==============================] - 11s 174ms/step - loss: 0.0288 - accuracy: 0.9702\n",
      "Epoch 17/30\n",
      "64/64 [==============================] - 9s 148ms/step - loss: 0.0275 - accuracy: 0.9719\n",
      "Epoch 18/30\n",
      "64/64 [==============================] - 10s 148ms/step - loss: 0.0241 - accuracy: 0.9746\n",
      "Epoch 19/30\n",
      "64/64 [==============================] - 12s 187ms/step - loss: 0.0230 - accuracy: 0.9719\n",
      "Epoch 20/30\n",
      "64/64 [==============================] - 11s 179ms/step - loss: 0.0272 - accuracy: 0.9723\n",
      "Epoch 21/30\n",
      "64/64 [==============================] - 11s 166ms/step - loss: 0.0172 - accuracy: 0.9802\n",
      "Epoch 22/30\n",
      "64/64 [==============================] - 12s 180ms/step - loss: 0.0187 - accuracy: 0.9787\n",
      "Epoch 23/30\n",
      "64/64 [==============================] - 12s 190ms/step - loss: 0.0238 - accuracy: 0.9744\n",
      "Epoch 24/30\n",
      "64/64 [==============================] - 12s 186ms/step - loss: 0.0214 - accuracy: 0.9773\n",
      "Epoch 25/30\n",
      "64/64 [==============================] - 12s 184ms/step - loss: 0.0195 - accuracy: 0.9792\n",
      "Epoch 26/30\n",
      "64/64 [==============================] - 11s 178ms/step - loss: 0.0218 - accuracy: 0.9760\n",
      "Epoch 27/30\n",
      "64/64 [==============================] - 11s 167ms/step - loss: 0.0164 - accuracy: 0.9829\n",
      "Epoch 28/30\n",
      "64/64 [==============================] - 11s 171ms/step - loss: 0.0163 - accuracy: 0.9800\n",
      "Epoch 29/30\n",
      "64/64 [==============================] - 9s 146ms/step - loss: 0.0114 - accuracy: 0.9890\n",
      "Epoch 30/30\n",
      "64/64 [==============================] - 10s 160ms/step - loss: 0.0092 - accuracy: 0.9887\n"
     ]
    },
    {
     "data": {
      "text/plain": [
       "<tensorflow.python.keras.callbacks.History at 0x1703004fb50>"
      ]
     },
     "execution_count": 18,
     "metadata": {},
     "output_type": "execute_result"
    }
   ],
   "source": [
    "model.fit(x_train,steps_per_epoch=4800//75,validation_data=x_test,epochs=30,validation_steps=1800//75)"
   ]
  },
  {
   "cell_type": "code",
   "execution_count": 20,
   "metadata": {},
   "outputs": [],
   "source": [
    "model.save('team26.h5')"
   ]
  },
  {
   "cell_type": "code",
   "execution_count": null,
   "metadata": {},
   "outputs": [],
   "source": []
  }
 ],
 "metadata": {
  "kernelspec": {
   "display_name": "Python 3",
   "language": "python",
   "name": "python3"
  },
  "language_info": {
   "codemirror_mode": {
    "name": "ipython",
    "version": 3
   },
   "file_extension": ".py",
   "mimetype": "text/x-python",
   "name": "python",
   "nbconvert_exporter": "python",
   "pygments_lexer": "ipython3",
   "version": "3.8.3"
  }
 },
 "nbformat": 4,
 "nbformat_minor": 4
}
